{
 "cells": [
  {
   "cell_type": "markdown",
   "id": "b23d4cbd",
   "metadata": {},
   "source": [
    "Exercise 2: Create markdown cell with title of the notebook\n",
    "\n",
    "Create a markdown cell with the title Data Science Tools and Ecosystem using H1 style heading.\n",
    "Take a screenshot of the markdown cell and name it as 2-title.png (Images can be saved with either the .jpg or .png extension.)\n"
   ]
  },
  {
   "cell_type": "markdown",
   "id": "0426813c",
   "metadata": {},
   "source": [
    "# Data Science Tools and Ecosystem"
   ]
  },
  {
   "cell_type": "code",
   "execution_count": 1,
   "id": "d3729463",
   "metadata": {},
   "outputs": [],
   "source": [
    "#In this notebook, Data Science Tools and Ecosystem are summarized."
   ]
  },
  {
   "cell_type": "markdown",
   "id": "c569144c",
   "metadata": {},
   "source": [
    "Some of the popular languages that Data Scientists use are:"
   ]
  },
  {
   "cell_type": "markdown",
   "id": "2a30e023",
   "metadata": {},
   "source": [
    "1. Python\n",
    "2. Julia\n",
    "3. R"
   ]
  },
  {
   "cell_type": "markdown",
   "id": "6d400b31",
   "metadata": {},
   "source": [
    "Some of the commonly used libraries used by Data Scientists include:"
   ]
  },
  {
   "cell_type": "markdown",
   "id": "2b2a0764",
   "metadata": {},
   "source": [
    "1. Sklearn\n",
    "2. TensorFlow\n",
    "3. Pytorch "
   ]
  },
  {
   "cell_type": "markdown",
   "id": "c946da93",
   "metadata": {},
   "source": [
    "# Data Science Tools"
   ]
  },
  {
   "cell_type": "markdown",
   "id": "16e1cb22",
   "metadata": {},
   "source": [
    "| Tool                | Description                                            |\n",
    "| ------------------- | ------------------------------------------------------ |\n",
    "| Python              | General-purpose programming language with rich libraries for data analysis, machine learning, and visualization. |\n",
    "| R                   | Statistical programming language widely used in data analysis and statistical modeling. Offers extensive libraries and packages for data manipulation, visualization, and machine learning. |\n",
    "| TensorFlow          | Open-source machine learning framework developed by Google. Widely used for deep learning tasks, including neural networks and natural language processing. Provides a comprehensive ecosystem for building and deploying machine learning models. |\n"
   ]
  },
  {
   "cell_type": "markdown",
   "id": "12ecdb61",
   "metadata": {},
   "source": [
    "### Below are a few examples of evaluating arithmetic expressions in Python"
   ]
  },
  {
   "cell_type": "code",
   "execution_count": 4,
   "id": "6675d259",
   "metadata": {},
   "outputs": [
    {
     "data": {
      "text/plain": [
       "17"
      ]
     },
     "execution_count": 4,
     "metadata": {},
     "output_type": "execute_result"
    }
   ],
   "source": [
    "#This a simple arithmetic expression to mutiply then add integers\n",
    "(3*4)+5\n"
   ]
  },
  {
   "cell_type": "code",
   "execution_count": 7,
   "id": "501cb7da",
   "metadata": {},
   "outputs": [
    {
     "data": {
      "text/plain": [
       "3.3333333333333335"
      ]
     },
     "execution_count": 7,
     "metadata": {},
     "output_type": "execute_result"
    }
   ],
   "source": [
    "#This will convert 200 minutes to hours by diving by 60\n",
    "hours = 200 / 60\n",
    "hours\n"
   ]
  },
  {
   "cell_type": "markdown",
   "id": "d82d8d17",
   "metadata": {},
   "source": [
    "**Objectives:**"
   ]
  },
  {
   "cell_type": "markdown",
   "id": "926b6b69",
   "metadata": {},
   "source": [
    "- List popular languages for Data Science\n",
    "- Converting hours into mins\n",
    "- Arithmetic expressions\n",
    "- Popular Datascience tools\n"
   ]
  },
  {
   "cell_type": "markdown",
   "id": "e067b524",
   "metadata": {},
   "source": [
    "## Author\n",
    "Sikander Riaz"
   ]
  },
  {
   "cell_type": "code",
   "execution_count": null,
   "id": "0d5fb12a",
   "metadata": {},
   "outputs": [],
   "source": []
  }
 ],
 "metadata": {
  "kernelspec": {
   "display_name": "Python 3 (ipykernel)",
   "language": "python",
   "name": "python3"
  },
  "language_info": {
   "codemirror_mode": {
    "name": "ipython",
    "version": 3
   },
   "file_extension": ".py",
   "mimetype": "text/x-python",
   "name": "python",
   "nbconvert_exporter": "python",
   "pygments_lexer": "ipython3",
   "version": "3.11.4"
  }
 },
 "nbformat": 4,
 "nbformat_minor": 5
}
